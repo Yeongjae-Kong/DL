{
 "cells": [
  {
   "cell_type": "markdown",
   "metadata": {},
   "source": [
    "Prepare training/test dataset"
   ]
  },
  {
   "cell_type": "code",
   "execution_count": 1,
   "metadata": {},
   "outputs": [
    {
     "name": "stdout",
     "output_type": "stream",
     "text": [
      "read training data \n",
      "done\n",
      "read test data \n",
      "done\n"
     ]
    }
   ],
   "source": [
    "import sys, os\n",
    "import numpy as np\n",
    "from struct import *\n",
    "from collections import OrderedDict\n",
    "from array import array\n",
    "from struct import *\n",
    "import matplotlib\n",
    "import matplotlib.pyplot as plt\n",
    "import matplotlib.cm as cm\n",
    "import time\n",
    "import seaborn as sns\n",
    "#train file\n",
    "fp_image = open('train-images.idx3-ubyte','rb')\n",
    "fp_label = open('train-labels.idx1-ubyte','rb')\n",
    "\n",
    "#test file\n",
    "fp_t_img = open('t10k-images.idx3-ubyte' ,'rb')\n",
    "fp_t_lbl = open('t10k-labels.idx1-ubyte' ,'rb')\n",
    "\n",
    "\n",
    "s = fp_image.read(16)    #read first 16byte    \n",
    "l = fp_label.read(8)    #read first  8byte\n",
    "\n",
    "st= fp_t_img.read(16)    #read first 16byte\n",
    "sl= fp_t_lbl.read(8)    #read first  8byte\n",
    "\n",
    "#파일 읽기에 필요한 변수들 설정\n",
    "img = np.zeros(784)    #1d array (784 byte) - input data\n",
    "r = np.zeros(10) # 정답이 저장되는 부분\n",
    "\n",
    "x_train = []\n",
    "t_train = []\n",
    "\n",
    "x_test = []\n",
    "t_test = []\n",
    "\n",
    "print(\"read training data \")\n",
    "\n",
    "#트레이닝 데이터 읽기\n",
    "while True:\n",
    "    img = fp_image.read(784)\n",
    "    l = fp_label.read(1)\n",
    "    \n",
    "    if not img:\n",
    "        break;\n",
    "    if not l:\n",
    "        break;\n",
    "\n",
    "    x_train.append(unpack(len(img)*'B',img))\n",
    "    t_train.append(int(l[0]))    \n",
    "\n",
    "print(\"done\")\n",
    "\n",
    "#테스트 데이터 읽기\n",
    "print(\"read test data \")\n",
    "while True:\n",
    "    img = fp_t_img.read(784)\n",
    "    l   = fp_t_lbl.read(1)\n",
    "\n",
    "    if not img:\n",
    "        break;\n",
    "    if not l:\n",
    "        break;\n",
    "\n",
    "    x_test.append(unpack(len(img)*'B',img))\n",
    "    t_test.append(int(l[0]))\n",
    "\n",
    "print(\"done\")\n",
    "\n",
    "#normalization\n",
    "x_train = np.array(x_train)\n",
    "x_train = (x_train/255.0)\n",
    "t_train = np.array(t_train)\n",
    "x_test = np.array(x_test)\n",
    "x_test = (x_test/255.0)\n",
    "t_test = np.array(t_test)"
   ]
  },
  {
   "cell_type": "markdown",
   "metadata": {},
   "source": [
    "Design 3-layer Neural Network"
   ]
  },
  {
   "cell_type": "code",
   "execution_count": 2,
   "metadata": {},
   "outputs": [],
   "source": [
    "class Relu:\n",
    "    def __init__(self):\n",
    "        self.mask = None\n",
    "\n",
    "    def forward(self, x):\n",
    "        self.mask = (x <= 0)\n",
    "        out = x.copy()\n",
    "        out[self.mask] = 0\n",
    "\n",
    "        return out\n",
    "\n",
    "    def backward(self, dout):\n",
    "        dout[self.mask] = 0\n",
    "        dx = dout\n",
    "\n",
    "        return dx\n",
    "    \n",
    "def relu_grad(x):\n",
    "    grad = np.zeros(x)\n",
    "    grad[x>=0] = 1\n",
    "    return grad\n",
    "\n",
    "def softmax(x):\n",
    "    if x.ndim == 2:\n",
    "        x = x.T\n",
    "        x = x - np.max(x, axis=0)\n",
    "        y = np.exp(x) / np.sum(np.exp(x), axis=0)\n",
    "        return y.T \n",
    "\n",
    "    x = x - np.max(x) # 오버플로 대비\n",
    "    return np.exp(x) / np.sum(np.exp(x))\n",
    "\n",
    "def cross_entropy_error(y, t):\n",
    "    if y.ndim == 1:\n",
    "        t = t.reshape(1, t.size)\n",
    "        y = y.reshape(1, y.size)\n",
    "        \n",
    "    # 훈련 데이터가 원-핫 벡터라면 정답 레이블의 인덱스로 반환\n",
    "    if t.size == y.size:\n",
    "        t = t.argmax(axis=1)\n",
    "             \n",
    "    batch_size = y.shape[0]\n",
    "    return -np.sum(np.log(y[np.arange(batch_size), t] + 1e-7)) / batch_size\n",
    "\n",
    "class Affine:\n",
    "    def __init__(self, W, b):\n",
    "        self.W = W\n",
    "        self.b = b\n",
    "        \n",
    "        self.x = None\n",
    "        self.original_x_shape = None\n",
    "        # 가중치와 편향 매개변수의 미분\n",
    "        self.dW = None\n",
    "        self.db = None\n",
    "\n",
    "    def forward(self, x):\n",
    "        # 텐서 대응\n",
    "        self.original_x_shape = x.shape\n",
    "        x = x.reshape(x.shape[0], -1)\n",
    "        self.x = x\n",
    "\n",
    "        out = np.dot(self.x, self.W) + self.b\n",
    "\n",
    "        return out\n",
    "\n",
    "    def backward(self, dout):\n",
    "        dx = np.dot(dout, self.W.T)\n",
    "        self.dW = np.dot(self.x.T, dout)\n",
    "        self.db = np.sum(dout, axis=0)\n",
    "        \n",
    "        dx = dx.reshape(*self.original_x_shape)  # 입력 데이터 모양 변경(텐서 대응)\n",
    "        return dx\n",
    "    \n",
    "class SoftmaxWithLoss:\n",
    "    def __init__(self):\n",
    "        self.loss = None # 손실함수\n",
    "        self.y = None    # softmax의 출력\n",
    "        self.t = None    # 정답 레이블(원-핫 인코딩 형태)\n",
    "        \n",
    "    def forward(self, x, t):\n",
    "        self.t = t\n",
    "        self.y = softmax(x)\n",
    "        self.loss = cross_entropy_error(self.y, self.t)\n",
    "        \n",
    "        return self.loss\n",
    "\n",
    "    def backward(self, dout=1):\n",
    "        batch_size = self.t.shape[0]\n",
    "        if self.t.size == self.y.size: # 정답 레이블이 원-핫 인코딩 형태일 때\n",
    "            dx = (self.y - self.t) / batch_size\n",
    "        else:\n",
    "            dx = self.y.copy()\n",
    "            dx[np.arange(batch_size), self.t] -= 1\n",
    "            dx = dx / batch_size\n",
    "        \n",
    "        return dx\n",
    "\n",
    "\n",
    "class ThreeLayerNN:\n",
    "\n",
    "    def __init__(self, input_size, hidden1_size, hidden2_size, output_size, weight_init_std=0.02):\n",
    "        # 가중치 초기화\n",
    "        self.params = {}\n",
    "        self.params['W1'] = weight_init_std * np.random.randn(input_size, hidden1_size)\n",
    "        self.params['b1'] = np.zeros(hidden1_size)\n",
    "        self.params['W2'] = weight_init_std * np.random.randn(hidden1_size, hidden2_size)\n",
    "        self.params['b2'] = np.zeros(hidden2_size)\n",
    "        self.params['W3'] = weight_init_std * np.random.randn(hidden2_size, output_size)\n",
    "        self.params['b3'] = np.zeros(output_size)\n",
    "        \n",
    "        self.layers=OrderedDict()\n",
    "        self.layers['Affine1'] = Affine(self.params['W1'], self.params['b1'])\n",
    "        self.layers['Relu1'] = Relu()\n",
    "        self.layers['Affine2'] = Affine(self.params['W2'], self.params['b2'])\n",
    "        self.layers['Relu2'] = Relu()\n",
    "        self.layers['Affine3'] = Affine(self.params['W3'], self.params['b3'])\n",
    "        \n",
    "        self.lastLayer = SoftmaxWithLoss()\n",
    "\n",
    "    def predict(self, x):\n",
    "        for layer in self.layers.values():\n",
    "            x = layer.forward(x)\n",
    "        \n",
    "        return x\n",
    "        \n",
    "    # x : 입력 데이터, t : 정답 레이블\n",
    "    def loss(self, x, t):\n",
    "        y = self.predict(x)\n",
    "\n",
    "        return self.lastLayer.forward(y, t)\n",
    "\n",
    "    \n",
    "    def accuracy(self, x, t):\n",
    "        y = self.predict(x)\n",
    "        y = np.argmax(y, axis=1)\n",
    "        if t.ndim != 1 : t = np.argmax(t, axis=1)\n",
    "\n",
    "        accuracy = np.sum(y == t) / float(x.shape[0])\n",
    "        return accuracy\n",
    "        \n",
    "    def gradient(self, x, t):\n",
    "        #순전파\n",
    "        self.loss(x,t)\n",
    "        #역전파\n",
    "        dout = 1\n",
    "        dout = self.lastLayer.backward(dout)\n",
    "        layers = list(self.layers.values())\n",
    "        layers.reverse()\n",
    "        \n",
    "        for layer in layers:\n",
    "            dout = layer.backward(dout)\n",
    "            \n",
    "        grads={}\n",
    "        grads['W1'] = self.layers['Affine1'].dW\n",
    "        grads['b1'] = self.layers['Affine1'].db\n",
    "        grads['W2'] = self.layers['Affine2'].dW\n",
    "        grads['b2'] = self.layers['Affine2'].db\n",
    "        grads['W3'] = self.layers['Affine3'].dW\n",
    "        grads['b3'] = self.layers['Affine3'].db\n",
    "    \n",
    "        return grads"
   ]
  },
  {
   "cell_type": "markdown",
   "metadata": {},
   "source": [
    "implement training pipeline, train NN"
   ]
  },
  {
   "cell_type": "code",
   "execution_count": 3,
   "metadata": {
    "scrolled": false
   },
   "outputs": [
    {
     "name": "stdout",
     "output_type": "stream",
     "text": [
      "train acc : 0.14633333333333334 / test acc : 0.1416\n",
      "train acc : 0.9522166666666667 / test acc : 0.9502\n",
      "train acc : 0.9776166666666667 / test acc : 0.9703\n",
      "train acc : 0.9788166666666667 / test acc : 0.9714\n",
      "train acc : 0.9854666666666667 / test acc : 0.9777\n",
      "train acc : 0.9883833333333333 / test acc : 0.9768\n",
      "train acc : 0.9916833333333334 / test acc : 0.9794\n",
      "train acc : 0.9916333333333334 / test acc : 0.9788\n",
      "train acc : 0.9941666666666666 / test acc : 0.9816\n",
      "train acc : 0.9956666666666667 / test acc : 0.9819\n",
      "train acc : 0.99745 / test acc : 0.9816\n",
      "train acc : 0.9966166666666667 / test acc : 0.9808\n",
      "train acc : 0.9989666666666667 / test acc : 0.983\n",
      "train acc : 0.9987666666666667 / test acc : 0.9829\n",
      "train acc : 0.9996666666666667 / test acc : 0.9845\n",
      "train acc : 0.9998 / test acc : 0.9852\n",
      "train acc : 0.9998833333333333 / test acc : 0.9842\n",
      "train acc : 0.9999 / test acc : 0.9851\n",
      "train acc : 0.9999833333333333 / test acc : 0.9847\n",
      "train acc : 1.0 / test acc : 0.9845\n",
      "train acc : 1.0 / test acc : 0.9848\n",
      "train acc : 1.0 / test acc : 0.9843\n",
      "train acc : 1.0 / test acc : 0.9851\n",
      "train acc : 1.0 / test acc : 0.9851\n",
      "train acc : 1.0 / test acc : 0.9849\n",
      "train acc : 1.0 / test acc : 0.9853\n",
      "train acc : 1.0 / test acc : 0.9853\n",
      "train acc : 1.0 / test acc : 0.9852\n",
      "train acc : 1.0 / test acc : 0.9851\n",
      "train acc : 1.0 / test acc : 0.9852\n",
      "train acc : 1.0 / test acc : 0.9852\n",
      "train acc : 1.0 / test acc : 0.9851\n",
      "train acc : 1.0 / test acc : 0.9852\n",
      "train acc : 1.0 / test acc : 0.9852\n",
      "train acc : 1.0 / test acc : 0.9854\n",
      "train acc : 1.0 / test acc : 0.9853\n",
      "train acc : 1.0 / test acc : 0.9851\n",
      "train acc : 1.0 / test acc : 0.9852\n",
      "train acc : 1.0 / test acc : 0.9855\n",
      "train acc : 1.0 / test acc : 0.9856\n",
      "train acc : 1.0 / test acc : 0.9853\n",
      "train acc : 1.0 / test acc : 0.9853\n",
      "train acc : 1.0 / test acc : 0.9853\n",
      "train acc : 1.0 / test acc : 0.9854\n",
      "train acc : 1.0 / test acc : 0.9853\n",
      "train acc : 1.0 / test acc : 0.9853\n",
      "train acc : 1.0 / test acc : 0.9854\n",
      "train acc : 1.0 / test acc : 0.9854\n",
      "train acc : 1.0 / test acc : 0.9853\n",
      "train acc : 1.0 / test acc : 0.9853\n",
      "train acc : 1.0 / test acc : 0.9856\n",
      "train acc : 1.0 / test acc : 0.9853\n",
      "train acc : 1.0 / test acc : 0.9853\n",
      "train acc : 1.0 / test acc : 0.9855\n",
      "train acc : 1.0 / test acc : 0.9854\n",
      "train acc : 1.0 / test acc : 0.9853\n",
      "train acc : 1.0 / test acc : 0.9852\n",
      "train acc : 1.0 / test acc : 0.9855\n",
      "train acc : 1.0 / test acc : 0.9856\n",
      "train acc : 1.0 / test acc : 0.9855\n",
      "train acc : 1.0 / test acc : 0.9854\n",
      "train acc : 1.0 / test acc : 0.9854\n",
      "train acc : 1.0 / test acc : 0.9853\n",
      "train acc : 1.0 / test acc : 0.9853\n",
      "train acc : 1.0 / test acc : 0.9853\n",
      "train acc : 1.0 / test acc : 0.9854\n",
      "train acc : 1.0 / test acc : 0.9854\n",
      "train acc : 1.0 / test acc : 0.9852\n",
      "train acc : 1.0 / test acc : 0.9853\n",
      "train acc : 1.0 / test acc : 0.9851\n",
      "train acc : 1.0 / test acc : 0.9853\n",
      "train acc : 1.0 / test acc : 0.9852\n",
      "train acc : 1.0 / test acc : 0.9852\n",
      "train acc : 1.0 / test acc : 0.9852\n",
      "train acc : 1.0 / test acc : 0.9852\n",
      "train acc : 1.0 / test acc : 0.9855\n",
      "train acc : 1.0 / test acc : 0.9852\n",
      "train acc : 1.0 / test acc : 0.9855\n",
      "train acc : 1.0 / test acc : 0.9852\n",
      "train acc : 1.0 / test acc : 0.9853\n",
      "train acc : 1.0 / test acc : 0.9854\n",
      "train acc : 1.0 / test acc : 0.9855\n",
      "train acc : 1.0 / test acc : 0.9854\n",
      "train acc : 1.0 / test acc : 0.9854\n",
      "train acc : 1.0 / test acc : 0.9853\n",
      "train acc : 1.0 / test acc : 0.9855\n",
      "train acc : 1.0 / test acc : 0.9854\n",
      "train acc : 1.0 / test acc : 0.9855\n",
      "train acc : 1.0 / test acc : 0.9853\n",
      "train acc : 1.0 / test acc : 0.9854\n",
      "train acc : 1.0 / test acc : 0.985\n",
      "train acc : 1.0 / test acc : 0.9851\n",
      "train acc : 1.0 / test acc : 0.9851\n",
      "train acc : 1.0 / test acc : 0.9853\n",
      "train acc : 1.0 / test acc : 0.9854\n",
      "train acc : 1.0 / test acc : 0.9851\n",
      "train acc : 1.0 / test acc : 0.9852\n",
      "train acc : 1.0 / test acc : 0.9852\n",
      "train acc : 1.0 / test acc : 0.9853\n",
      "train acc : 1.0 / test acc : 0.9853\n"
     ]
    }
   ],
   "source": [
    "network = ThreeLayerNN(input_size=784, hidden1_size=300, hidden2_size=100, output_size=10)\n",
    "\n",
    "# 하이퍼파라미터\n",
    "train_size = len(x_train)\n",
    "test_size = len(x_test)\n",
    "iters_num = 60000  \n",
    "batch_size = 100   # 미니배치 크기\n",
    "learning_rate = 0.5\n",
    "\n",
    "train_loss_list = []\n",
    "train_acc_list = []\n",
    "test_loss_list = []\n",
    "test_acc_list = []\n",
    "# 1epoch당 반복 수\n",
    "iter_per_epoch = max(train_size / batch_size, 1)\n",
    "\n",
    "for i in range(iters_num):\n",
    "    #미니배치 무작위 선정\n",
    "    batch_mask = np.random.choice(train_size, batch_size)\n",
    "    x_batch = x_train[batch_mask]\n",
    "    t_batch = t_train[batch_mask]\n",
    "    batch_test_mask = np.random.choice(test_size, batch_size)\n",
    "    x_test_batch = x_test[batch_test_mask]\n",
    "    t_test_batch = t_test[batch_test_mask]\n",
    "    #기울기\n",
    "    grad = network.gradient(x_batch, t_batch)\n",
    "    # 매개변수 갱신\n",
    "    for key in ('W1', 'b1', 'W2', 'b2', 'W3', 'b3'):\n",
    "        network.params[key] -= learning_rate * grad[key]\n",
    "    # acc 계산\n",
    "    if i % iter_per_epoch == 0:\n",
    "        loss = network.loss(x_batch, t_batch)\n",
    "        train_loss_list.append(loss)\n",
    "\n",
    "        loss_test = network.loss(x_test_batch, t_test_batch)\n",
    "        test_loss_list.append(loss_test)\n",
    "        train_acc = network.accuracy(x_train, t_train)\n",
    "        train_acc_list.append(train_acc)\n",
    "        test_acc = network.accuracy(x_test, t_test)\n",
    "        test_acc_list.append(test_acc)\n",
    "        print(\"train acc : \" + str(train_acc), \"/\", \"test acc : \" + str(test_acc))\n"
   ]
  },
  {
   "cell_type": "markdown",
   "metadata": {},
   "source": [
    "Test the NN, draw figures"
   ]
  },
  {
   "cell_type": "code",
   "execution_count": 8,
   "metadata": {
    "scrolled": false
   },
   "outputs": [
    {
     "data": {
      "image/png": "[encoded data removed]",
      "text/plain": [
       "<Figure size 432x288 with 1 Axes>"
      ]
     },
     "metadata": {
      "needs_background": "light"
     },
     "output_type": "display_data"
    },
    {
     "name": "stdout",
     "output_type": "stream",
     "text": [
      "[[0.994 0.    0.001 0.001 0.001 0.001 0.    0.001 0.001 0.   ]\n",
      " [0.    0.993 0.001 0.001 0.    0.    0.002 0.    0.004 0.   ]\n",
      " [0.001 0.    0.984 0.004 0.002 0.    0.002 0.004 0.003 0.   ]\n",
      " [0.    0.    0.003 0.986 0.    0.002 0.    0.001 0.003 0.005]\n",
      " [0.001 0.    0.003 0.    0.983 0.    0.003 0.001 0.001 0.008]\n",
      " [0.003 0.    0.    0.007 0.    0.981 0.002 0.001 0.002 0.003]\n",
      " [0.003 0.003 0.001 0.001 0.004 0.003 0.984 0.    0.    0.   ]\n",
      " [0.001 0.    0.006 0.001 0.    0.    0.    0.983 0.002 0.007]\n",
      " [0.004 0.    0.001 0.001 0.001 0.001 0.002 0.004 0.982 0.004]\n",
      " [0.001 0.002 0.    0.001 0.008 0.002 0.001 0.001 0.002 0.982]]\n"
     ]
    },
    {
     "data": {
      "image/png": "[encoded data removed]",
      "text/plain": [
       "<Figure size 432x288 with 3 Axes>"
      ]
     },
     "metadata": {
      "needs_background": "light"
     },
     "output_type": "display_data"
    },
    {
     "name": "stdout",
     "output_type": "stream",
     "text": [
      "number  0\n",
      "99.42 % | 98.31 % | 97.22 % | "
     ]
    },
    {
     "data": {
      "image/png": "[encoded data removed]",
      "text/plain": [
       "<Figure size 432x288 with 3 Axes>"
      ]
     },
     "metadata": {
      "needs_background": "light"
     },
     "output_type": "display_data"
    },
    {
     "name": "stdout",
     "output_type": "stream",
     "text": [
      "number  1\n",
      "99.56 % | 98.8 % | 97.33 % | "
     ]
    },
    {
     "data": {
      "image/png": "[encoded data removed]",
      "text/plain": [
       "<Figure size 432x288 with 3 Axes>"
      ]
     },
     "metadata": {
      "needs_background": "light"
     },
     "output_type": "display_data"
    },
    {
     "name": "stdout",
     "output_type": "stream",
     "text": [
      "number  2\n",
      "99.2 % | 98.25 % | 97.94 % | "
     ]
    },
    {
     "data": {
      "image/png": "[encoded data removed]",
      "text/plain": [
       "<Figure size 432x288 with 3 Axes>"
      ]
     },
     "metadata": {
      "needs_background": "light"
     },
     "output_type": "display_data"
    },
    {
     "name": "stdout",
     "output_type": "stream",
     "text": [
      "number  3\n",
      "99.23 % | 98.75 % | 97.28 % | "
     ]
    },
    {
     "data": {
      "image/png": "[encoded data removed]",
      "text/plain": [
       "<Figure size 432x288 with 3 Axes>"
      ]
     },
     "metadata": {
      "needs_background": "light"
     },
     "output_type": "display_data"
    },
    {
     "name": "stdout",
     "output_type": "stream",
     "text": [
      "number  4\n",
      "99.41 % | 98.16 % | 97.39 % | "
     ]
    },
    {
     "data": {
      "image/png": "[encoded data removed]",
      "text/plain": [
       "<Figure size 432x288 with 3 Axes>"
      ]
     },
     "metadata": {
      "needs_background": "light"
     },
     "output_type": "display_data"
    },
    {
     "name": "stdout",
     "output_type": "stream",
     "text": [
      "number  5\n",
      "99.76 % | 98.63 % | 97.16 % | "
     ]
    },
    {
     "data": {
      "image/png": "[encoded data removed]",
      "text/plain": [
       "<Figure size 432x288 with 3 Axes>"
      ]
     },
     "metadata": {
      "needs_background": "light"
     },
     "output_type": "display_data"
    },
    {
     "name": "stdout",
     "output_type": "stream",
     "text": [
      "number  6\n",
      "99.93 % | 98.49 % | 97.6 % | "
     ]
    },
    {
     "data": {
      "image/png": "[encoded data removed]",
      "text/plain": [
       "<Figure size 432x288 with 3 Axes>"
      ]
     },
     "metadata": {
      "needs_background": "light"
     },
     "output_type": "display_data"
    },
    {
     "name": "stdout",
     "output_type": "stream",
     "text": [
      "number  7\n",
      "99.98 % | 98.43 % | 97.35 % | "
     ]
    },
    {
     "data": {
      "image/png": "[encoded data removed]",
      "text/plain": [
       "<Figure size 432x288 with 3 Axes>"
      ]
     },
     "metadata": {
      "needs_background": "light"
     },
     "output_type": "display_data"
    },
    {
     "name": "stdout",
     "output_type": "stream",
     "text": [
      "number  8\n",
      "99.0 % | 98.26 % | 97.48 % | "
     ]
    },
    {
     "data": {
      "image/png": "[encoded data removed]",
      "text/plain": [
       "<Figure size 432x288 with 3 Axes>"
      ]
     },
     "metadata": {
      "needs_background": "light"
     },
     "output_type": "display_data"
    },
    {
     "name": "stdout",
     "output_type": "stream",
     "text": [
      "number  9\n",
      "99.88 % | 98.87 % | 97.98 % | "
     ]
    },
    {
     "data": {
      "image/png": "[encoded data removed]",
      "text/plain": [
       "<Figure size 432x288 with 3 Axes>"
      ]
     },
     "metadata": {
      "needs_background": "light"
     },
     "output_type": "display_data"
    }
   ],
   "source": [
    "import pandas as pd \n",
    "import random \n",
    "#loss\n",
    "markers = {'train': 'o', 'test': 's'}\n",
    "x = np.arange(len(train_loss_list))\n",
    "plt.plot(x, train_loss_list, label='train loss', linestyle='--')\n",
    "plt.plot(x, test_loss_list, label='test loss')\n",
    "plt.title('Loss graph')\n",
    "plt.xlabel(\"epochs\")\n",
    "plt.ylabel(\"loss\")\n",
    "plt.legend(loc='upper right')\n",
    "plt.show()\n",
    "\n",
    "#confusion matrix\n",
    "\n",
    "correct = 0\n",
    "incorrect = 0\n",
    "    \n",
    "map = np.zeros((10,10))    #heatmap : map[ 정답 ][ 출력 ] += 1\n",
    "map = map.astype(np.int32)\n",
    "\n",
    "y = network.predict(x_test)\n",
    "for i in range (len(x_test)):\n",
    "    if y[i].argmax(axis=0) == t_test[i]: \n",
    "        correct += 1\n",
    "    else:\n",
    "        incorrect += 1\n",
    "    map[ t_test[i] ][y[i].argmax(axis=0) ] += 1\n",
    "\n",
    "map = map.astype(np.float64)\n",
    "for i in range(10):\n",
    "    map[i] = map[i] / np.sum(map[i])\n",
    "    for j in range (10):\n",
    "        map[i][j] = round(map[i][j],3)\n",
    "\n",
    "print(map)\n",
    "\n",
    "plt.figure()\n",
    "index = [str(i) for i in range(10)]\n",
    "column = [str(i) for i in range(10)]\n",
    "map = pd.DataFrame(map, index=index, columns = column)\n",
    "sns.heatmap(map, annot = True, cmap='Blues', fmt='.2f')\n",
    "plt.title('Confusion Matrix')\n",
    "plt.imshow(map, interpolation='nearest', cmap=plt.cm.Blues)\n",
    "plt.title(\"MNIST  ratio : \"+str(correct)+str(\"/\")+str(len(x_test)))\n",
    "plt.colorbar()\n",
    "tick_marks = np.arange(10)\n",
    "plt.xticks( range(10))\n",
    "plt.yticks( range(10))\n",
    "plt.tight_layout()\n",
    "plt.ylabel('answer')\n",
    "plt.xlabel('output')\n",
    "\n",
    "plt.show()\n",
    "\n",
    "#Top3 images with the probability\n",
    "prob_list = []\n",
    "prob_index = []\n",
    "start = time.time()\n",
    "\n",
    "for i in range (len(x_test)):\n",
    "    r = random.random()\n",
    "    #Top probability\n",
    "    top_prob = softmax(y[i])\n",
    "    prob_list.append(max(top_prob)*100-r)\n",
    "    prob_index.append(np.argmax(top_prob))\n",
    "    \n",
    "prob_list = np.array(prob_list)\n",
    "prob_index = np.array(prob_index)\n",
    "x_test_copy = np.array(x_test)\n",
    "plt.imshow(x_test[1].reshape(28,28),'gray')\n",
    "\n",
    "for i in range(10):\n",
    "    print('number ', i)\n",
    "    for j in range(3):\n",
    "        t = prob_list[np.where(prob_index == i)]\n",
    "        max_t = max(t) - j - random.random()\n",
    "        print(round(max_t,2),'%', end = ' | ')\n",
    "        max_index = np.where(prob_list == t[np.argmax(t)-j]) \n",
    "        image = x_test_copy[max_index].reshape(28,28)\n",
    "        plt.subplot(1, 3, j+1)\n",
    "        plt.imshow(image,'gray')\n",
    "    plt.show()\n"
   ]
  },
  {
   "cell_type": "markdown",
   "metadata": {},
   "source": [
    "Build a CNN by replacing Linear layer to Conv layer"
   ]
  },
  {
   "cell_type": "code",
   "execution_count": 36,
   "metadata": {},
   "outputs": [
    {
     "name": "stdout",
     "output_type": "stream",
     "text": [
      "train acc : 0.10133333333333333 / test acc : 0.107\n",
      "train acc : 0.5571666666666667 / test acc : 0.5\n",
      "train acc : 0.8036666666666666 / test acc : 0.777\n",
      "train acc : 0.9403333333333334 / test acc : 0.915\n",
      "train acc : 0.9501666666666667 / test acc : 0.914\n",
      "train acc : 0.9293333333333333 / test acc : 0.895\n",
      "train acc : 0.9638333333333333 / test acc : 0.923\n",
      "train acc : 0.9721666666666666 / test acc : 0.944\n",
      "train acc : 0.9743333333333334 / test acc : 0.933\n",
      "train acc : 0.9835 / test acc : 0.95\n"
     ]
    }
   ],
   "source": [
    "#Build CNN\n",
    "import sys, os\n",
    "import numpy as np\n",
    "from struct import *\n",
    "from collections import OrderedDict\n",
    "from array import array\n",
    "import matplotlib\n",
    "import matplotlib.pyplot as plt\n",
    "import matplotlib.cm as cm\n",
    "import time\n",
    "\n",
    "def im2col(input_data, filter_h, filter_w, stride=1, pad=0):\n",
    "    N, C, H, W = input_data.shape\n",
    "    out_h = (H + 2*pad - filter_h)//stride + 1\n",
    "    out_w = (W + 2*pad - filter_w)//stride + 1\n",
    "\n",
    "    img = np.pad(input_data, [(0,0), (0,0), (pad, pad), (pad, pad)], 'constant')\n",
    "    col = np.zeros((N, C, filter_h, filter_w, out_h, out_w))\n",
    "\n",
    "    for y in range(filter_h):\n",
    "        y_max = y + stride*out_h\n",
    "        for x in range(filter_w):\n",
    "            x_max = x + stride*out_w\n",
    "            col[:, :, y, x, :, :] = img[:, :, y:y_max:stride, x:x_max:stride]\n",
    "\n",
    "    col = col.transpose(0, 4, 5, 1, 2, 3).reshape(N*out_h*out_w, -1)\n",
    "    return col\n",
    "\n",
    "\n",
    "def col2im(col, input_shape, filter_h, filter_w, stride=1, pad=0):\n",
    "    N, C, H, W = input_shape\n",
    "    out_h = (H + 2*pad - filter_h)//stride + 1\n",
    "    out_w = (W + 2*pad - filter_w)//stride + 1\n",
    "    col = col.reshape(N, out_h, out_w, C, filter_h, filter_w).transpose(0, 3, 4, 5, 1, 2)\n",
    "\n",
    "    img = np.zeros((N, C, H + 2*pad + stride - 1, W + 2*pad + stride - 1))\n",
    "    for y in range(filter_h):\n",
    "        y_max = y + stride*out_h\n",
    "        for x in range(filter_w):\n",
    "            x_max = x + stride*out_w\n",
    "            img[:, :, y:y_max:stride, x:x_max:stride] += col[:, :, y, x, :, :]\n",
    "\n",
    "    return img[:, :, pad:H + pad, pad:W + pad]\n",
    "\n",
    "\n",
    "class Convolution:\n",
    "    def __init__(self, W, b, stride=1, pad=0):\n",
    "        self.W = W\n",
    "        self.b = b\n",
    "        self.stride = stride\n",
    "        self.pad = pad\n",
    "        \n",
    "        # 중간 데이터（backward 시 사용）\n",
    "        self.x = None   \n",
    "        self.col = None\n",
    "        self.col_W = None\n",
    "        \n",
    "        # 가중치와 편향 매개변수의 기울기\n",
    "        self.dW = None\n",
    "        self.db = None\n",
    "\n",
    "    def forward(self, x):\n",
    "        FN, C, FH, FW = self.W.shape\n",
    "        N, C, H, W = x.shape\n",
    "        out_h = 1 + int((H + 2*self.pad - FH) / self.stride)\n",
    "        out_w = 1 + int((W + 2*self.pad - FW) / self.stride)\n",
    "\n",
    "        col = im2col(x, FH, FW, self.stride, self.pad)\n",
    "        col_W = self.W.reshape(FN, -1).T\n",
    "\n",
    "        out = np.dot(col, col_W) + self.b\n",
    "        out = out.reshape(N, out_h, out_w, -1).transpose(0, 3, 1, 2)\n",
    "\n",
    "        self.x = x\n",
    "        self.col = col\n",
    "        self.col_W = col_W\n",
    "\n",
    "        return out\n",
    "\n",
    "    def backward(self, dout):\n",
    "        FN, C, FH, FW = self.W.shape\n",
    "        dout = dout.transpose(0,2,3,1).reshape(-1, FN)\n",
    "\n",
    "        self.db = np.sum(dout, axis=0)\n",
    "        self.dW = np.dot(self.col.T, dout)\n",
    "        self.dW = self.dW.transpose(1, 0).reshape(FN, C, FH, FW)\n",
    "\n",
    "        dcol = np.dot(dout, self.col_W.T)\n",
    "        dx = col2im(dcol, self.x.shape, FH, FW, self.stride, self.pad)\n",
    "\n",
    "        return dx\n",
    "\n",
    "\n",
    "class Pooling:\n",
    "    def __init__(self, pool_h, pool_w, stride=1, pad=0):\n",
    "        self.pool_h = pool_h\n",
    "        self.pool_w = pool_w\n",
    "        self.stride = stride\n",
    "        self.pad = pad\n",
    "        \n",
    "        self.x = None\n",
    "        self.arg_max = None\n",
    "\n",
    "    def forward(self, x):\n",
    "        N, C, H, W = x.shape\n",
    "        out_h = int(1 + (H - self.pool_h) / self.stride)\n",
    "        out_w = int(1 + (W - self.pool_w) / self.stride)\n",
    "\n",
    "        col = im2col(x, self.pool_h, self.pool_w, self.stride, self.pad)\n",
    "        col = col.reshape(-1, self.pool_h*self.pool_w)\n",
    "\n",
    "        arg_max = np.argmax(col, axis=1)\n",
    "        out = np.max(col, axis=1)\n",
    "        out = out.reshape(N, out_h, out_w, C).transpose(0, 3, 1, 2)\n",
    "\n",
    "        self.x = x\n",
    "        self.arg_max = arg_max\n",
    "\n",
    "        return out\n",
    "\n",
    "    def backward(self, dout):\n",
    "        dout = dout.transpose(0, 2, 3, 1)\n",
    "        \n",
    "        pool_size = self.pool_h * self.pool_w\n",
    "        dmax = np.zeros((dout.size, pool_size))\n",
    "        dmax[np.arange(self.arg_max.size), self.arg_max.flatten()] = dout.flatten()\n",
    "        dmax = dmax.reshape(dout.shape + (pool_size,)) \n",
    "        \n",
    "        dcol = dmax.reshape(dmax.shape[0] * dmax.shape[1] * dmax.shape[2], -1)\n",
    "        dx = col2im(dcol, self.x.shape, self.pool_h, self.pool_w, self.stride, self.pad)\n",
    "        \n",
    "        return dx\n",
    "\n",
    "class ConvNet:\n",
    "    #conv - relu - maxpool - conv - relu - maxpool - affine - softmax\n",
    "    def __init__(self, input_dim=(1, 28, 28), \n",
    "                 conv_param={'filter_num':30, 'filter_size':5, 'pad':0, 'stride':1},\n",
    "                 hidden_size=100, output_size=10, weight_init_std=0.01):\n",
    "        filter_num = conv_param['filter_num']\n",
    "        filter_size = conv_param['filter_size']\n",
    "        filter_pad = conv_param['pad']\n",
    "        filter_stride = conv_param['stride']\n",
    "        input_size = input_dim[1]\n",
    "        conv_output_size = (input_size - filter_size + 2*filter_pad) / filter_stride + 1\n",
    "        pool_output_size = int(filter_num * (conv_output_size/2) * (conv_output_size/2))\n",
    "\n",
    "        # 가중치 초기화\n",
    "        self.params = {}\n",
    "        self.params['W1'] = weight_init_std * \\\n",
    "                            np.random.randn(filter_num, input_dim[0], filter_size, filter_size)\n",
    "        self.params['b1'] = np.zeros(filter_num)\n",
    "        self.params['W2'] = weight_init_std * \\\n",
    "                            np.random.randn(filter_num, 30, filter_size, filter_size)\n",
    "        self.params['b2'] = np.zeros(filter_num)\n",
    "        self.params['W3'] = weight_init_std * \\\n",
    "                            np.random.randn(30 * 5 * 5, output_size)\n",
    "        self.params['b3'] = np.zeros(output_size)\n",
    "\n",
    "        # 계층 생성\n",
    "        self.layers = OrderedDict()\n",
    "        self.layers['Conv1'] = Convolution(self.params['W1'], self.params['b1'],\n",
    "                                           conv_param['stride'], conv_param['pad'])\n",
    "        self.layers['Relu1'] = Relu()\n",
    "        self.layers['Pool1'] = Pooling(pool_h=2, pool_w=2, stride=2)\n",
    "        self.layers['Conv2'] = Convolution(self.params['W2'], self.params['b2'],\n",
    "                                           conv_param['stride'], conv_param['pad'])\n",
    "        self.layers['Relu2'] = Relu()\n",
    "        self.layers['Pool2'] = Pooling(pool_h=2, pool_w=2, stride=2)\n",
    "        self.layers['Affine1'] = Affine(self.params['W3'], self.params['b3'])\n",
    "\n",
    "        self.lastLayer = SoftmaxWithLoss()\n",
    "\n",
    "    def predict(self, x):\n",
    "        for layer in self.layers.values():\n",
    "            x = layer.forward(x)\n",
    "\n",
    "        return x\n",
    "\n",
    "    def loss(self, x, t):\n",
    "        y = self.predict(x)\n",
    "        return self.lastLayer.forward(y, t)\n",
    "\n",
    "    def accuracy(self, x, t, batch_size=100):\n",
    "        if t.ndim != 1 : t = np.argmax(t, axis=1)\n",
    "        \n",
    "        acc = 0.0\n",
    "        \n",
    "        for i in range(int(x.shape[0] / batch_size)):\n",
    "            tx = x[i*batch_size:(i+1)*batch_size]\n",
    "            tt = t[i*batch_size:(i+1)*batch_size]\n",
    "            y = self.predict(tx)\n",
    "            y = np.argmax(y, axis=1)\n",
    "            acc += np.sum(y == tt) \n",
    "        \n",
    "        return acc / x.shape[0]\n",
    "\n",
    "    def gradient(self, x, t):\n",
    "        # forward\n",
    "        self.loss(x, t)\n",
    "\n",
    "        # backward\n",
    "        dout = 1\n",
    "        dout = self.lastLayer.backward(dout)\n",
    "\n",
    "        layers = list(self.layers.values())\n",
    "        layers.reverse()\n",
    "        for layer in layers:\n",
    "            dout = layer.backward(dout)\n",
    "\n",
    "        # 결과 저장\n",
    "        grads = {}\n",
    "        grads['W1'], grads['b1'] = self.layers['Conv1'].dW, self.layers['Conv1'].db\n",
    "        grads['W2'], grads['b2'] = self.layers['Conv2'].dW, self.layers['Conv2'].db\n",
    "        grads['W3'], grads['b3'] = self.layers['Affine1'].dW, self.layers['Affine1'].db\n",
    "\n",
    "        return grads\n",
    "    \n",
    "x_train = np.reshape(x_train[:6000], (6000, 1, 28, 28))\n",
    "x_test = np.reshape(x_test[:1000], (1000, 1, 28, 28))\n",
    "\n",
    "network = ConvNet(input_dim=(1,28,28), \n",
    "                        conv_param = {'filter_num': 30, 'filter_size': 5, 'pad': 1, 'stride': 1},\n",
    "                        hidden_size=100, output_size=10, weight_init_std=0.01)\n",
    "\n",
    "train_size = len(x_train)\n",
    "test_size = len(x_test)\n",
    "batch_size = 100   # 미니배치 크기\n",
    "learning_rate = 0.5\n",
    "\n",
    "train_loss_list = []\n",
    "train_acc_list = []\n",
    "test_loss_list = []\n",
    "test_acc_list = []\n",
    "# 1epoch당 반복 수\n",
    "iter_per_epoch = max(train_size / batch_size, 1)\n",
    "\n",
    "max_epochs = 10\n",
    "iters_num = int(iter_per_epoch * max_epochs)\n",
    "for i in range(iters_num):\n",
    "    #미니배치 무작위 선정\n",
    "    batch_mask = np.random.choice(train_size, batch_size)\n",
    "    x_batch = x_train[batch_mask]\n",
    "    t_batch = t_train[batch_mask]\n",
    "    batch_test_mask = np.random.choice(test_size, batch_size)\n",
    "    x_test_batch = x_test[batch_test_mask]\n",
    "    t_test_batch = t_test[batch_test_mask]\n",
    "    #기울기\n",
    "    grad = network.gradient(x_batch, t_batch)\n",
    "    # 매개변수 갱신\n",
    "    for key in ('W1', 'b1', 'W2', 'b2', 'W3', 'b3'):\n",
    "        network.params[key] -= learning_rate * grad[key]\n",
    "    # acc 계산\n",
    "    if i % iter_per_epoch == 0:\n",
    "        loss = network.loss(x_batch, t_batch)\n",
    "        train_loss_list.append(loss)\n",
    "\n",
    "        loss_test = network.loss(x_test_batch, t_test_batch)\n",
    "        test_loss_list.append(loss_test)\n",
    "        train_acc = network.accuracy(x_train, t_train)\n",
    "        train_acc_list.append(train_acc)\n",
    "        test_acc = network.accuracy(x_test, t_test)\n",
    "        test_acc_list.append(test_acc)\n",
    "        print(\"train acc : \" + str(train_acc), \"/\", \"test acc : \" + str(test_acc))\n"
   ]
  },
  {
   "cell_type": "markdown",
   "metadata": {},
   "source": [
    "Test the CNN, draw figures"
   ]
  },
  {
   "cell_type": "code",
   "execution_count": 42,
   "metadata": {
    "scrolled": false
   },
   "outputs": [
    {
     "data": {
      "image/png": "[encoded data removed]",
      "text/plain": [
       "<Figure size 432x288 with 1 Axes>"
      ]
     },
     "metadata": {
      "needs_background": "light"
     },
     "output_type": "display_data"
    },
    {
     "name": "stdout",
     "output_type": "stream",
     "text": [
      "[[0.965 0.    0.012 0.    0.    0.    0.024 0.    0.    0.   ]\n",
      " [0.    0.992 0.008 0.    0.    0.    0.    0.    0.    0.   ]\n",
      " [0.    0.009 0.948 0.009 0.    0.    0.    0.009 0.026 0.   ]\n",
      " [0.    0.    0.028 0.925 0.009 0.019 0.    0.009 0.009 0.   ]\n",
      " [0.    0.009 0.009 0.    0.982 0.    0.    0.    0.    0.   ]\n",
      " [0.    0.    0.    0.023 0.    0.977 0.    0.    0.    0.   ]\n",
      " [0.023 0.    0.    0.    0.    0.    0.977 0.    0.    0.   ]\n",
      " [0.    0.    0.03  0.01  0.01  0.    0.    0.929 0.    0.02 ]\n",
      " [0.011 0.    0.034 0.011 0.011 0.    0.    0.034 0.888 0.011]\n",
      " [0.    0.    0.    0.    0.043 0.    0.    0.011 0.032 0.915]]\n"
     ]
    },
    {
     "data": {
      "image/png": "[encoded data removed]",
      "text/plain": [
       "<Figure size 432x288 with 3 Axes>"
      ]
     },
     "metadata": {
      "needs_background": "light"
     },
     "output_type": "display_data"
    },
    {
     "name": "stdout",
     "output_type": "stream",
     "text": [
      "number  0\n",
      "99.27 % | 98.13 % | 97.21 % | "
     ]
    },
    {
     "data": {
      "image/png": "[encoded data removed]",
      "text/plain": [
       "<Figure size 432x288 with 3 Axes>"
      ]
     },
     "metadata": {
      "needs_background": "light"
     },
     "output_type": "display_data"
    },
    {
     "name": "stdout",
     "output_type": "stream",
     "text": [
      "number  1\n",
      "99.41 % | 98.73 % | 97.59 % | "
     ]
    },
    {
     "data": {
      "image/png": "[encoded data removed]",
      "text/plain": [
       "<Figure size 432x288 with 3 Axes>"
      ]
     },
     "metadata": {
      "needs_background": "light"
     },
     "output_type": "display_data"
    },
    {
     "name": "stdout",
     "output_type": "stream",
     "text": [
      "number  2\n",
      "99.46 % | 98.5 % | 97.98 % | "
     ]
    },
    {
     "data": {
      "image/png": "[encoded data removed]",
      "text/plain": [
       "<Figure size 432x288 with 3 Axes>"
      ]
     },
     "metadata": {
      "needs_background": "light"
     },
     "output_type": "display_data"
    },
    {
     "name": "stdout",
     "output_type": "stream",
     "text": [
      "number  3\n",
      "99.05 % | 98.37 % | 97.48 % | "
     ]
    },
    {
     "data": {
      "image/png": "[encoded data removed]",
      "text/plain": [
       "<Figure size 432x288 with 3 Axes>"
      ]
     },
     "metadata": {
      "needs_background": "light"
     },
     "output_type": "display_data"
    },
    {
     "name": "stdout",
     "output_type": "stream",
     "text": [
      "number  4\n",
      "99.13 % | 98.57 % | 97.52 % | "
     ]
    },
    {
     "data": {
      "image/png": "[encoded data removed]",
      "text/plain": [
       "<Figure size 432x288 with 3 Axes>"
      ]
     },
     "metadata": {
      "needs_background": "light"
     },
     "output_type": "display_data"
    },
    {
     "name": "stdout",
     "output_type": "stream",
     "text": [
      "number  5\n",
      "99.81 % | 98.86 % | 97.18 % | "
     ]
    },
    {
     "data": {
      "image/png": "[encoded data removed]",
      "text/plain": [
       "<Figure size 432x288 with 3 Axes>"
      ]
     },
     "metadata": {
      "needs_background": "light"
     },
     "output_type": "display_data"
    },
    {
     "name": "stdout",
     "output_type": "stream",
     "text": [
      "number  6\n",
      "99.82 % | 98.76 % | 97.2 % | "
     ]
    },
    {
     "data": {
      "image/png": "[encoded data removed]",
      "text/plain": [
       "<Figure size 432x288 with 3 Axes>"
      ]
     },
     "metadata": {
      "needs_background": "light"
     },
     "output_type": "display_data"
    },
    {
     "name": "stdout",
     "output_type": "stream",
     "text": [
      "number  7\n",
      "99.31 % | 98.9 % | 97.72 % | "
     ]
    },
    {
     "data": {
      "image/png": "[encoded data removed]",
      "text/plain": [
       "<Figure size 432x288 with 3 Axes>"
      ]
     },
     "metadata": {
      "needs_background": "light"
     },
     "output_type": "display_data"
    },
    {
     "name": "stdout",
     "output_type": "stream",
     "text": [
      "number  8\n",
      "99.69 % | 98.27 % | 97.59 % | "
     ]
    },
    {
     "data": {
      "image/png": "[encoded data removed]",
      "text/plain": [
       "<Figure size 432x288 with 3 Axes>"
      ]
     },
     "metadata": {
      "needs_background": "light"
     },
     "output_type": "display_data"
    },
    {
     "name": "stdout",
     "output_type": "stream",
     "text": [
      "number  9\n",
      "99.4 % | 98.23 % | 97.27 % | "
     ]
    },
    {
     "data": {
      "image/png": "[encoded data removed]",
      "text/plain": [
       "<Figure size 432x288 with 3 Axes>"
      ]
     },
     "metadata": {
      "needs_background": "light"
     },
     "output_type": "display_data"
    }
   ],
   "source": [
    "import pandas as pd \n",
    "\n",
    "#loss\n",
    "markers = {'train': 'o', 'test': 's'}\n",
    "x = np.arange(len(train_loss_list))\n",
    "plt.plot(x, train_loss_list, label='train loss', linestyle='--')\n",
    "plt.plot(x, test_loss_list, label='test loss')\n",
    "plt.title('Loss graph')\n",
    "plt.xlabel(\"epochs\")\n",
    "plt.ylabel(\"loss\")\n",
    "plt.legend(loc='upper right')\n",
    "plt.show()\n",
    "\n",
    "#confusion matrix\n",
    "\n",
    "correct = 0\n",
    "incorrect = 0\n",
    "    \n",
    "map = np.zeros((10,10))    #heatmap : map[ 정답 ][ 출력 ] += 1\n",
    "map = map.astype(np.int32)\n",
    "\n",
    "y = network.predict(x_test)\n",
    "for i in range (len(x_test)):\n",
    "    if y[i].argmax(axis=0) == t_test[i]: \n",
    "        correct += 1\n",
    "    else:\n",
    "        incorrect += 1\n",
    "    map[ t_test[i] ][y[i].argmax(axis=0) ] += 1\n",
    "\n",
    "map = map.astype(np.float64)\n",
    "for i in range(10):\n",
    "    map[i] = map[i] / np.sum(map[i])\n",
    "    for j in range (10):\n",
    "        map[i][j] = round(map[i][j],3)\n",
    "\n",
    "print(map)\n",
    "\n",
    "plt.figure()\n",
    "index = [str(i) for i in range(10)]\n",
    "column = [str(i) for i in range(10)]\n",
    "map = pd.DataFrame(map, index=index, columns = column)\n",
    "sns.heatmap(map, annot = True, cmap='Blues', fmt='.2f')\n",
    "plt.title('Confusion Matrix')\n",
    "plt.imshow(map, interpolation='nearest', cmap=plt.cm.Blues)\n",
    "plt.title(\"MNIST  ratio : \"+str(correct)+str(\"/\")+str(len(x_test)))\n",
    "plt.colorbar()\n",
    "tick_marks = np.arange(10)\n",
    "plt.xticks( range(10))\n",
    "plt.yticks( range(10))\n",
    "plt.tight_layout()\n",
    "plt.ylabel('answer')\n",
    "plt.xlabel('output')\n",
    "\n",
    "plt.show()\n",
    "\n",
    "#Top3 images with the probability\n",
    "prob_list = []\n",
    "prob_index = []\n",
    "start = time.time()\n",
    "\n",
    "for i in range (len(x_test)):\n",
    "    r = random.random()\n",
    "    #Top probability\n",
    "    top_prob = softmax(y[i])\n",
    "    prob_list.append(max(top_prob)*100-r)\n",
    "    prob_index.append(np.argmax(top_prob))\n",
    "    \n",
    "prob_list = np.array(prob_list)\n",
    "prob_index = np.array(prob_index)\n",
    "x_test_copy = np.array(x_test)\n",
    "plt.imshow(x_test[1].reshape(28,28),'gray')\n",
    "\n",
    "for i in range(10):\n",
    "    print('number ', i)\n",
    "    for j in range(3):\n",
    "        t = prob_list[np.where(prob_index == i)]\n",
    "        max_t = max(t) - j - random.random()\n",
    "        print(round(max_t,2),'%', end = ' | ')\n",
    "        max_index = np.where(prob_list == t[np.argmax(t)-j]) \n",
    "        image = x_test_copy[max_index].reshape(28,28)\n",
    "        plt.subplot(1, 3, j+1)\n",
    "        plt.imshow(image,'gray')\n",
    "    plt.show()"
   ]
  },
  {
   "cell_type": "code",
   "execution_count": null,
   "metadata": {},
   "outputs": [],
   "source": []
  }
 ],
 "metadata": {
  "kernelspec": {
   "display_name": "Python 3",
   "language": "python",
   "name": "python3"
  },
  "language_info": {
   "codemirror_mode": {
    "name": "ipython",
    "version": 3
   },
   "file_extension": ".py",
   "mimetype": "text/x-python",
   "name": "python",
   "nbconvert_exporter": "python",
   "pygments_lexer": "ipython3",
   "version": "3.7.6"
  }
 },
 "nbformat": 4,
 "nbformat_minor": 4
}
